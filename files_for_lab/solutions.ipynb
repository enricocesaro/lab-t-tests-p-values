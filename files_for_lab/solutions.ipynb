{
 "cells": [
  {
   "cell_type": "code",
   "execution_count": null,
   "source": [
    "\n",
    "import pandas as pd   #importing libraries\n",
    "import numpy as np\n",
    "import scipy.stats as st"
   ],
   "outputs": [],
   "metadata": {}
  },
  {
   "cell_type": "markdown",
   "source": [
    "One tailed t-test"
   ],
   "metadata": {}
  },
  {
   "cell_type": "code",
   "execution_count": null,
   "source": [
    "\n",
    "#H0: average time new machine = to old machine\n",
    "#H1: average time new machine < than then to old machine"
   ],
   "outputs": [],
   "metadata": {}
  },
  {
   "cell_type": "code",
   "execution_count": null,
   "source": [
    "\n",
    "data = pd.read_csv('machines.csv',sep=\";\")\n",
    "data"
   ],
   "outputs": [],
   "metadata": {}
  },
  {
   "cell_type": "code",
   "execution_count": null,
   "source": [
    "round(np.mean(data['old_machine']),2)\n",
    "st.ttest_1samp(data['new_machine'],43.23)\n"
   ],
   "outputs": [],
   "metadata": {}
  },
  {
   "cell_type": "code",
   "execution_count": null,
   "source": [
    "print('p value (single tailed): ',st.ttest_1samp(data['new_machine'],43.23)[1]/2)\n",
    "# Ho should be rejected, we cant say that the new achine hs the same avg speed"
   ],
   "outputs": [],
   "metadata": {}
  },
  {
   "cell_type": "markdown",
   "source": [
    "Matched Pair Test"
   ],
   "metadata": {}
  },
  {
   "cell_type": "code",
   "execution_count": null,
   "source": [
    "\n",
    "\n",
    "\n",
    "pokemon = pd.read_csv('pokemon.csv')\n",
    "pokemon.head()"
   ],
   "outputs": [],
   "metadata": {}
  },
  {
   "cell_type": "code",
   "execution_count": null,
   "source": [
    "#H0: defence and attack scores are equal\n",
    "#H1: defence and attack score are NOT equal\n",
    "\n",
    "st.ttest_rel(pokemon['Defense'], pokemon['Attack'])\n",
    "\n",
    "#Ho to be rejected, no evidence that attack and score are equal"
   ],
   "outputs": [],
   "metadata": {}
  }
 ],
 "metadata": {
  "orig_nbformat": 4,
  "language_info": {
   "name": "python"
  }
 },
 "nbformat": 4,
 "nbformat_minor": 2
}